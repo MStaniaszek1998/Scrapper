{
 "cells": [
  {
   "cell_type": "code",
   "execution_count": 1,
   "metadata": {},
   "outputs": [
    {
     "name": "stdout",
     "output_type": "stream",
     "text": [
      "Requirement already satisfied: selenium in /home/mateusz-destroyer/anaconda3/envs/coinfirm_task/lib/python3.6/site-packages (3.141.0)\n",
      "Requirement already satisfied: pandas in /home/mateusz-destroyer/anaconda3/envs/coinfirm_task/lib/python3.6/site-packages (1.1.0)\n",
      "Requirement already satisfied: lxml in /home/mateusz-destroyer/anaconda3/envs/coinfirm_task/lib/python3.6/site-packages (4.5.2)\n",
      "Requirement already satisfied: tqdm in /home/mateusz-destroyer/anaconda3/envs/coinfirm_task/lib/python3.6/site-packages (4.48.0)\n",
      "Requirement already satisfied: urllib3 in /home/mateusz-destroyer/anaconda3/envs/coinfirm_task/lib/python3.6/site-packages (from selenium) (1.25.10)\n",
      "Requirement already satisfied: pytz>=2017.2 in /home/mateusz-destroyer/anaconda3/envs/coinfirm_task/lib/python3.6/site-packages (from pandas) (2020.1)\n",
      "Requirement already satisfied: numpy>=1.15.4 in /home/mateusz-destroyer/anaconda3/envs/coinfirm_task/lib/python3.6/site-packages (from pandas) (1.19.1)\n",
      "Requirement already satisfied: python-dateutil>=2.7.3 in /home/mateusz-destroyer/anaconda3/envs/coinfirm_task/lib/python3.6/site-packages (from pandas) (2.8.1)\n",
      "Requirement already satisfied: six>=1.5 in /home/mateusz-destroyer/anaconda3/envs/coinfirm_task/lib/python3.6/site-packages (from python-dateutil>=2.7.3->pandas) (1.15.0)\n"
     ]
    }
   ],
   "source": [
    "data_path = 'data_raw/'\n",
    "parsed_path = 'data_scrapped/'\n",
    "!pip install selenium pandas  lxml tqdm"
   ]
  },
  {
   "cell_type": "code",
   "execution_count": 2,
   "metadata": {},
   "outputs": [],
   "source": [
    "import codecs\n",
    "from tqdm import tqdm\n",
    "def save_file(save_path:str, content:str) -> None:\n",
    "    \"\"\"Generic function to save files\"\"\"\n",
    "    with codecs.open(save_path, 'w') as file:\n",
    "        file.write(content)\n",
    "        \n",
    "def open_file(path: str) -> bytes:\n",
    "    with codecs.open(path, 'r') as file:\n",
    "        content = file.read()\n",
    "    return content"
   ]
  },
  {
   "cell_type": "markdown",
   "metadata": {},
   "source": [
    "## Crawl the list of the IEOs"
   ]
  },
  {
   "cell_type": "code",
   "execution_count": 3,
   "metadata": {},
   "outputs": [
    {
     "name": "stdout",
     "output_type": "stream",
     "text": [
      "data_raw/ieo_list_raw_html/raw_list.html\n"
     ]
    }
   ],
   "source": [
    "from selenium import webdriver\n",
    "import os\n",
    "\n",
    "from selenium.webdriver.common.desired_capabilities import DesiredCapabilities\n",
    "list_ieos = 'https://icobench.com/ieo'\n",
    "driver = webdriver.Remote('http://172.17.0.1:4444/wd/hub',DesiredCapabilities.CHROME)\n",
    "driver.get(list_ieos)\n",
    "path_to_save = os.path.join(data_path,'ieo_list_raw_html/raw_list.html')\n",
    "print(path_to_save)\n",
    "save_file(path_to_save,driver.page_source)\n",
    "driver.close()"
   ]
  },
  {
   "cell_type": "markdown",
   "metadata": {},
   "source": [
    "## Scrape the list of the Ieos"
   ]
  },
  {
   "cell_type": "code",
   "execution_count": 4,
   "metadata": {},
   "outputs": [
    {
     "data": {
      "text/html": [
       "<div>\n",
       "<style scoped>\n",
       "    .dataframe tbody tr th:only-of-type {\n",
       "        vertical-align: middle;\n",
       "    }\n",
       "\n",
       "    .dataframe tbody tr th {\n",
       "        vertical-align: top;\n",
       "    }\n",
       "\n",
       "    .dataframe thead th {\n",
       "        text-align: right;\n",
       "    }\n",
       "</style>\n",
       "<table border=\"1\" class=\"dataframe\">\n",
       "  <thead>\n",
       "    <tr style=\"text-align: right;\">\n",
       "      <th></th>\n",
       "      <th>Project_Name</th>\n",
       "      <th>Progress</th>\n",
       "      <th>Launchpad</th>\n",
       "      <th>Rating</th>\n",
       "      <th>Token</th>\n",
       "      <th>Start</th>\n",
       "      <th>links</th>\n",
       "    </tr>\n",
       "  </thead>\n",
       "  <tbody>\n",
       "    <tr>\n",
       "      <th>0</th>\n",
       "      <td>BITFINEX</td>\n",
       "      <td>Ended$1000M</td>\n",
       "      <td>Bitfinex Launchpad</td>\n",
       "      <td>3.8</td>\n",
       "      <td>LEO</td>\n",
       "      <td>05 May, 2019</td>\n",
       "      <td>/ico/bitfinex</td>\n",
       "    </tr>\n",
       "    <tr>\n",
       "      <th>1</th>\n",
       "      <td>Tron Game Global</td>\n",
       "      <td>Ended$80M</td>\n",
       "      <td>Multiple</td>\n",
       "      <td>2.6</td>\n",
       "      <td>GTP</td>\n",
       "      <td>13 Jun, 2019</td>\n",
       "      <td>/ico/tron-game-global</td>\n",
       "    </tr>\n",
       "    <tr>\n",
       "      <th>2</th>\n",
       "      <td>Perlin</td>\n",
       "      <td>Ended$53M</td>\n",
       "      <td>Binance Launchpad</td>\n",
       "      <td>3.5</td>\n",
       "      <td>PERL</td>\n",
       "      <td>24 Aug, 2019</td>\n",
       "      <td>/ico/perlin</td>\n",
       "    </tr>\n",
       "    <tr>\n",
       "      <th>3</th>\n",
       "      <td>Percival</td>\n",
       "      <td>Ended$35M</td>\n",
       "      <td>Coineal Launchpad</td>\n",
       "      <td>2.3</td>\n",
       "      <td>XPV</td>\n",
       "      <td>05 Mar, 2019</td>\n",
       "      <td>/ico/percival</td>\n",
       "    </tr>\n",
       "    <tr>\n",
       "      <th>4</th>\n",
       "      <td>Bread</td>\n",
       "      <td>Ended$32M</td>\n",
       "      <td>Binance Launchpad</td>\n",
       "      <td>3.4</td>\n",
       "      <td>BRD</td>\n",
       "      <td>16 Dec, 2017</td>\n",
       "      <td>/ico/bread</td>\n",
       "    </tr>\n",
       "    <tr>\n",
       "      <th>...</th>\n",
       "      <td>...</td>\n",
       "      <td>...</td>\n",
       "      <td>...</td>\n",
       "      <td>...</td>\n",
       "      <td>...</td>\n",
       "      <td>...</td>\n",
       "      <td>...</td>\n",
       "    </tr>\n",
       "    <tr>\n",
       "      <th>290</th>\n",
       "      <td>Level01</td>\n",
       "      <td>Ended—</td>\n",
       "      <td>p2pb2b Launchpad</td>\n",
       "      <td>4.3</td>\n",
       "      <td>LVX</td>\n",
       "      <td>01 Jul, 2018</td>\n",
       "      <td>/ico/lvx</td>\n",
       "    </tr>\n",
       "    <tr>\n",
       "      <th>291</th>\n",
       "      <td>Ubecoin</td>\n",
       "      <td>Ended—</td>\n",
       "      <td>Latoken Launchpad</td>\n",
       "      <td>3.8</td>\n",
       "      <td>UBE</td>\n",
       "      <td>12 Apr, 2018</td>\n",
       "      <td>/ico/ubecoin</td>\n",
       "    </tr>\n",
       "    <tr>\n",
       "      <th>292</th>\n",
       "      <td>INTELLIGENT HERO</td>\n",
       "      <td>Ended—</td>\n",
       "      <td>Exmarkets Launchpad</td>\n",
       "      <td>3.2</td>\n",
       "      <td>Intelligent Hero</td>\n",
       "      <td>10 Jan, 2010</td>\n",
       "      <td>/ico/intelligent-hero</td>\n",
       "    </tr>\n",
       "    <tr>\n",
       "      <th>293</th>\n",
       "      <td>Rowan Energy Blockchain</td>\n",
       "      <td>22%</td>\n",
       "      <td>Latoken Launchpad</td>\n",
       "      <td>4.9</td>\n",
       "      <td>RWN</td>\n",
       "      <td>01 Jul, 2020</td>\n",
       "      <td>/ico/rowan-energy-blockchain</td>\n",
       "    </tr>\n",
       "    <tr>\n",
       "      <th>294</th>\n",
       "      <td>BitWings</td>\n",
       "      <td>83%</td>\n",
       "      <td>Exmarkets Launchpad</td>\n",
       "      <td>4.3</td>\n",
       "      <td>BWN</td>\n",
       "      <td>01 Sep, 2019</td>\n",
       "      <td>/ico/bitwings</td>\n",
       "    </tr>\n",
       "  </tbody>\n",
       "</table>\n",
       "<p>295 rows × 7 columns</p>\n",
       "</div>"
      ],
      "text/plain": [
       "                Project_Name     Progress            Launchpad  Rating  \\\n",
       "0                   BITFINEX  Ended$1000M   Bitfinex Launchpad     3.8   \n",
       "1           Tron Game Global    Ended$80M             Multiple     2.6   \n",
       "2                     Perlin    Ended$53M    Binance Launchpad     3.5   \n",
       "3                   Percival    Ended$35M    Coineal Launchpad     2.3   \n",
       "4                      Bread    Ended$32M    Binance Launchpad     3.4   \n",
       "..                       ...          ...                  ...     ...   \n",
       "290                  Level01       Ended—     p2pb2b Launchpad     4.3   \n",
       "291                  Ubecoin       Ended—    Latoken Launchpad     3.8   \n",
       "292         INTELLIGENT HERO       Ended—  Exmarkets Launchpad     3.2   \n",
       "293  Rowan Energy Blockchain          22%    Latoken Launchpad     4.9   \n",
       "294                 BitWings          83%  Exmarkets Launchpad     4.3   \n",
       "\n",
       "                Token         Start                         links  \n",
       "0                 LEO  05 May, 2019                 /ico/bitfinex  \n",
       "1                 GTP  13 Jun, 2019         /ico/tron-game-global  \n",
       "2                PERL  24 Aug, 2019                   /ico/perlin  \n",
       "3                 XPV  05 Mar, 2019                 /ico/percival  \n",
       "4                 BRD  16 Dec, 2017                    /ico/bread  \n",
       "..                ...           ...                           ...  \n",
       "290               LVX  01 Jul, 2018                      /ico/lvx  \n",
       "291               UBE  12 Apr, 2018                  /ico/ubecoin  \n",
       "292  Intelligent Hero  10 Jan, 2010         /ico/intelligent-hero  \n",
       "293               RWN  01 Jul, 2020  /ico/rowan-energy-blockchain  \n",
       "294               BWN  01 Sep, 2019                 /ico/bitwings  \n",
       "\n",
       "[295 rows x 7 columns]"
      ]
     },
     "execution_count": 4,
     "metadata": {},
     "output_type": "execute_result"
    }
   ],
   "source": [
    "#//*[@id=\"ieocols\"]/div/div/table\n",
    "def get_links_to_proj(root):\n",
    "    all_links = \"//a[@class='name notranslate']/@href\"\n",
    "    get_all = root.xpath(all_links)\n",
    "    return get_all\n",
    "    \n",
    "\n",
    "from lxml import html\n",
    "import pandas as pd\n",
    "path_to_open = os.path.join(data_path,'ieo_list_raw_html/raw_list.html')\n",
    "content = open_file(path_to_open)\n",
    "root = html.fromstring(content)\n",
    "table_content = html.tostring(root.xpath('//*[@id=\"ieocols\"]/div/div/table')[0])\n",
    "df = pd.read_html(table_content)[0]\n",
    "df['links'] = get_links_to_proj(root)\n",
    "df = df.drop(['Review','Project'],axis=1)\n",
    "df= df.rename(columns={\"Project.1\": \"Project_Name\"})\n",
    "save_path = os.path.join(parsed_path,'scrapped_list.csv')\n",
    "df.to_csv(save_path,index=False)\n",
    "df"
   ]
  },
  {
   "cell_type": "markdown",
   "metadata": {},
   "source": [
    "## Crawl The Projects' websites"
   ]
  },
  {
   "cell_type": "code",
   "execution_count": null,
   "metadata": {},
   "outputs": [
    {
     "name": "stderr",
     "output_type": "stream",
     "text": [
      "186it [05:46,  1.77s/it]"
     ]
    }
   ],
   "source": [
    "import time\n",
    "import urllib.parse\n",
    "from selenium.webdriver.common.keys import Keys\n",
    "\n",
    "def create_url(extended_path,base_path='https://icobench.com/'):\n",
    "    url = urllib.parse.urljoin(base_path, extended_path)\n",
    "    return url\n",
    "\n",
    "def scroll_to_the_end_html(driver) -> None:\n",
    "    \"\"\"Webdriver is scrolling to the end of the webpage and renders the content for the\n",
    "    further scrapping.\"\"\"\n",
    "    html = driver.find_element_by_tag_name('html')\n",
    "    html.send_keys(Keys.END)\n",
    "\n",
    "driver = webdriver.Remote('http://172.17.0.1:4444/wd/hub',DesiredCapabilities.CHROME)\n",
    "df_scrape_path = os.path.join(parsed_path,'scrapped_list.csv')\n",
    "df_scrape = pd.read_csv(df_scrape_path)\n",
    "df_scrape['links'].apply(lambda x: create_url(x))\n",
    "for i,row in tqdm(df_scrape.iterrows()):\n",
    "    url_scrape = create_url(row['links'])\n",
    "    driver.get(url_scrape)\n",
    "    time.sleep(1)\n",
    "    scroll_to_the_end_html(driver)\n",
    "    page_source = driver.page_source\n",
    "    if i % 10 == 0: \n",
    "        time.sleep(1)\n",
    "    \n",
    "    path_to_save = os.path.join(data_path,f'ieo_infos_raw_html/{row[\"Project_Name\"]}.html')\n",
    "   \n",
    "    save_file(path_to_save,page_source)\n",
    "    \n",
    "driver.close()"
   ]
  },
  {
   "cell_type": "code",
   "execution_count": null,
   "metadata": {},
   "outputs": [],
   "source": [
    "df_scrape"
   ]
  },
  {
   "cell_type": "markdown",
   "metadata": {},
   "source": [
    "## Scrape Infos |"
   ]
  },
  {
   "cell_type": "code",
   "execution_count": null,
   "metadata": {},
   "outputs": [],
   "source": [
    "import glob \n",
    "from lxml import html\n",
    "def open_files():\n",
    "    path = 'data_raw/ieo_infos_raw_html/*'\n",
    "    for file_path in glob.glob(path):\n",
    "        content = open_file(file_path)\n",
    "        name = os.path.basename(file_path).split('.')[0]\n",
    "        yield content,name\n",
    "\n",
    "def scrape_information(content,name):\n",
    "    root = html.fromstring(content)\n",
    "    url_whitepaper_xpath = '//*[@id=\"whitepaper\"]/p[1]/object/@data'\n",
    "    try:\n",
    "        url_whitepaper = root.xpath(url_whitepaper_xpath)[0]\n",
    "    except:\n",
    "        url_whitepaper=None\n",
    "    \n",
    "    return [url_whitepaper,name]\n",
    "    \n",
    "\n",
    "columns= ['whitepaper_url','Project_name']\n",
    "frames =[]\n",
    "for html_content,name in open_files():\n",
    "    data = scrape_information(html_content,name)\n",
    "    frames.append(data)\n",
    "    \n",
    "df = pd.DataFrame(data=frames,columns=columns)\n",
    "save_path = os.path.join(parsed_path,'scrapped_ieo_infos.csv')\n",
    "df.to_csv(save_path,index=False)"
   ]
  },
  {
   "cell_type": "code",
   "execution_count": null,
   "metadata": {},
   "outputs": [],
   "source": [
    "df"
   ]
  },
  {
   "cell_type": "markdown",
   "metadata": {},
   "source": [
    "## Crawl PDFs"
   ]
  },
  {
   "cell_type": "code",
   "execution_count": null,
   "metadata": {},
   "outputs": [],
   "source": [
    "STOPSE\n",
    "import requests\n",
    "path_to_ieo_infos = os.path.join(parsed_path,'scrapped_ieo_infos.csv')\n",
    "df = pd.read_csv(path_to_ieo_infos)\n",
    "def download_pdf(url,chunk_size=2000):\n",
    "    \n",
    "    headers = {'User-Agent': 'Mozilla/5.0 (Macintosh; Intel Mac OS X 10_10_1) AppleWebKit/537.36 (KHTML, like Gecko) Chrome/39.0.2171.95 Safari/537.36'}\n",
    "    url = row['whitepaper_url']\n",
    "   \n",
    "    save_point = 'data_raw/ieo_whitepapers'\n",
    "    path_to_save = os.path.join(save_point,f'{row[\"Project_name\"]}.pdf')\n",
    "    try:\n",
    "        s = requests.get(url, headers=headers,stream=True)\n",
    "\n",
    "        with open(path_to_save, 'wb') as fd:\n",
    "            for chunk in s.iter_content(chunk_size):\n",
    "                fd.write(chunk)\n",
    "        return 'SUCCESS'\n",
    "    except:\n",
    "        return 'FAILED'\n",
    "    \n",
    "statuses = []\n",
    "cols=['Project_name','whitepaper_url','DOWNLOAD_STATUS']\n",
    "for i,row in tqdm(df.iterrows()):\n",
    "  \n",
    "    status = download_pdf(row)\n",
    "    statuses.append(status)\n",
    "df['DOWNLOAD_STATUS']=statuses\n",
    "cols=['Project_name','whitepaper_url','DOWNLOAD_STATUS']\n",
    "path_to_ieo_infos = os.path.join(parsed_path,'scrapped_whitepapers_statuses.csv')\n",
    "df[cols].to_csv(path_to_ieo_infos,index=False)"
   ]
  },
  {
   "cell_type": "code",
   "execution_count": null,
   "metadata": {},
   "outputs": [],
   "source": [
    "df"
   ]
  },
  {
   "cell_type": "code",
   "execution_count": null,
   "metadata": {},
   "outputs": [],
   "source": [
    "df"
   ]
  },
  {
   "cell_type": "code",
   "execution_count": null,
   "metadata": {},
   "outputs": [],
   "source": []
  }
 ],
 "metadata": {
  "kernelspec": {
   "display_name": "Python 3",
   "language": "python",
   "name": "python3"
  },
  "language_info": {
   "codemirror_mode": {
    "name": "ipython",
    "version": 3
   },
   "file_extension": ".py",
   "mimetype": "text/x-python",
   "name": "python",
   "nbconvert_exporter": "python",
   "pygments_lexer": "ipython3",
   "version": "3.6.10"
  }
 },
 "nbformat": 4,
 "nbformat_minor": 4
}
